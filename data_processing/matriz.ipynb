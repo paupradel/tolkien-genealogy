{
 "cells": [
  {
   "cell_type": "code",
   "execution_count": 1,
   "id": "03d03d16",
   "metadata": {},
   "outputs": [],
   "source": [
    "import pandas as pd\n",
    "import numpy as np\n",
    "import os"
   ]
  },
  {
   "cell_type": "code",
   "execution_count": 2,
   "id": "cf11d0b4",
   "metadata": {},
   "outputs": [],
   "source": [
    "df = pd.read_csv(os.path.join('data', 'first_age.csv'))"
   ]
  },
  {
   "cell_type": "code",
   "execution_count": 3,
   "id": "1513da67",
   "metadata": {},
   "outputs": [
    {
     "data": {
      "text/html": [
       "<div>\n",
       "<style scoped>\n",
       "    .dataframe tbody tr th:only-of-type {\n",
       "        vertical-align: middle;\n",
       "    }\n",
       "\n",
       "    .dataframe tbody tr th {\n",
       "        vertical-align: top;\n",
       "    }\n",
       "\n",
       "    .dataframe thead th {\n",
       "        text-align: right;\n",
       "    }\n",
       "</style>\n",
       "<table border=\"1\" class=\"dataframe\">\n",
       "  <thead>\n",
       "    <tr style=\"text-align: right;\">\n",
       "      <th></th>\n",
       "      <th>name</th>\n",
       "      <th>race</th>\n",
       "      <th>house</th>\n",
       "      <th>other_name_1</th>\n",
       "      <th>other_name_2</th>\n",
       "      <th>other_name_3</th>\n",
       "      <th>other_name_4</th>\n",
       "      <th>other_name_5</th>\n",
       "      <th>fate</th>\n",
       "      <th>relations</th>\n",
       "      <th>death</th>\n",
       "      <th>contributions</th>\n",
       "    </tr>\n",
       "  </thead>\n",
       "  <tbody>\n",
       "    <tr>\n",
       "      <th>0</th>\n",
       "      <td>Aegnor</td>\n",
       "      <td>elf</td>\n",
       "      <td>Noldor</td>\n",
       "      <td>NaN</td>\n",
       "      <td>NaN</td>\n",
       "      <td>NaN</td>\n",
       "      <td>NaN</td>\n",
       "      <td>NaN</td>\n",
       "      <td>NaN</td>\n",
       "      <td>fourth son of Finarfin</td>\n",
       "      <td>slain in the Dagor Bragollach</td>\n",
       "      <td>NaN</td>\n",
       "    </tr>\n",
       "    <tr>\n",
       "      <th>1</th>\n",
       "      <td>Amras</td>\n",
       "      <td>elf</td>\n",
       "      <td>Noldor</td>\n",
       "      <td>NaN</td>\n",
       "      <td>NaN</td>\n",
       "      <td>NaN</td>\n",
       "      <td>NaN</td>\n",
       "      <td>NaN</td>\n",
       "      <td>NaN</td>\n",
       "      <td>youngest of the sons of Fëanor and twin brothe...</td>\n",
       "      <td>slain with Amrod in the attack on Eärendil's p...</td>\n",
       "      <td>NaN</td>\n",
       "    </tr>\n",
       "    <tr>\n",
       "      <th>2</th>\n",
       "      <td>Amrod</td>\n",
       "      <td>elf</td>\n",
       "      <td>Noldor</td>\n",
       "      <td>NaN</td>\n",
       "      <td>NaN</td>\n",
       "      <td>NaN</td>\n",
       "      <td>NaN</td>\n",
       "      <td>NaN</td>\n",
       "      <td>NaN</td>\n",
       "      <td>youngest of the sons of Fëanor and twin brothe...</td>\n",
       "      <td>slain with Amras in the attack on Eärendil's p...</td>\n",
       "      <td>NaN</td>\n",
       "    </tr>\n",
       "    <tr>\n",
       "      <th>3</th>\n",
       "      <td>Angrod</td>\n",
       "      <td>elf</td>\n",
       "      <td>Noldor</td>\n",
       "      <td>NaN</td>\n",
       "      <td>NaN</td>\n",
       "      <td>NaN</td>\n",
       "      <td>NaN</td>\n",
       "      <td>NaN</td>\n",
       "      <td>NaN</td>\n",
       "      <td>third son of Finarfin</td>\n",
       "      <td>slain in the Dagor Bragollach</td>\n",
       "      <td>NaN</td>\n",
       "    </tr>\n",
       "    <tr>\n",
       "      <th>4</th>\n",
       "      <td>Aragorn</td>\n",
       "      <td>men</td>\n",
       "      <td>NaN</td>\n",
       "      <td>Elessar</td>\n",
       "      <td>Strider</td>\n",
       "      <td>NaN</td>\n",
       "      <td>NaN</td>\n",
       "      <td>NaN</td>\n",
       "      <td>NaN</td>\n",
       "      <td>thirty-ninth Heir of Isildur in direct line</td>\n",
       "      <td>died of age at 210 years old</td>\n",
       "      <td>NaN</td>\n",
       "    </tr>\n",
       "  </tbody>\n",
       "</table>\n",
       "</div>"
      ],
      "text/plain": [
       "      name race   house other_name_1 other_name_2 other_name_3 other_name_4  \\\n",
       "0   Aegnor  elf  Noldor          NaN          NaN          NaN          NaN   \n",
       "1    Amras  elf  Noldor          NaN          NaN          NaN          NaN   \n",
       "2    Amrod  elf  Noldor          NaN          NaN          NaN          NaN   \n",
       "3   Angrod  elf  Noldor          NaN          NaN          NaN          NaN   \n",
       "4  Aragorn  men     NaN      Elessar      Strider          NaN          NaN   \n",
       "\n",
       "  other_name_5 fate                                          relations  \\\n",
       "0          NaN  NaN                             fourth son of Finarfin   \n",
       "1          NaN  NaN  youngest of the sons of Fëanor and twin brothe...   \n",
       "2          NaN  NaN  youngest of the sons of Fëanor and twin brothe...   \n",
       "3          NaN  NaN                              third son of Finarfin   \n",
       "4          NaN  NaN        thirty-ninth Heir of Isildur in direct line   \n",
       "\n",
       "                                               death contributions  \n",
       "0                      slain in the Dagor Bragollach           NaN  \n",
       "1  slain with Amrod in the attack on Eärendil's p...           NaN  \n",
       "2  slain with Amras in the attack on Eärendil's p...           NaN  \n",
       "3                      slain in the Dagor Bragollach           NaN  \n",
       "4                       died of age at 210 years old           NaN  "
      ]
     },
     "execution_count": 3,
     "metadata": {},
     "output_type": "execute_result"
    }
   ],
   "source": [
    "df.head()"
   ]
  },
  {
   "cell_type": "code",
   "execution_count": 4,
   "id": "23561875",
   "metadata": {},
   "outputs": [],
   "source": [
    "df['index_name'] = df['name']"
   ]
  },
  {
   "cell_type": "code",
   "execution_count": 5,
   "id": "56c019f6",
   "metadata": {},
   "outputs": [],
   "source": [
    "matrix = df.pivot(index='index_name', columns='name', values=['relations'])"
   ]
  },
  {
   "cell_type": "code",
   "execution_count": 6,
   "id": "38cd8bbc",
   "metadata": {},
   "outputs": [],
   "source": [
    "matrix.to_csv(os.path.join('data', 'matrix_first_age.csv'))"
   ]
  },
  {
   "cell_type": "code",
   "execution_count": null,
   "id": "abdf5898",
   "metadata": {},
   "outputs": [],
   "source": []
  }
 ],
 "metadata": {
  "kernelspec": {
   "display_name": "Python 3 (ipykernel)",
   "language": "python",
   "name": "python3"
  },
  "language_info": {
   "codemirror_mode": {
    "name": "ipython",
    "version": 3
   },
   "file_extension": ".py",
   "mimetype": "text/x-python",
   "name": "python",
   "nbconvert_exporter": "python",
   "pygments_lexer": "ipython3",
   "version": "3.9.13"
  }
 },
 "nbformat": 4,
 "nbformat_minor": 5
}
